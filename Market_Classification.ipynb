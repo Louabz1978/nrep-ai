{
  "nbformat": 4,
  "nbformat_minor": 0,
  "metadata": {
    "colab": {
      "provenance": []
    },
    "kernelspec": {
      "name": "python3",
      "display_name": "Python 3"
    },
    "language_info": {
      "name": "python"
    }
  },
  "cells": [
    {
      "cell_type": "markdown",
      "source": [
        "# ***MARKET CLASSIFICATION MODEL***"
      ],
      "metadata": {
        "id": "88Ig5yyaSOji"
      }
    },
    {
      "cell_type": "markdown",
      "source": [
        "This model will be used to classify the current market into three classes:\n",
        "*   Buyers Market\n",
        "*   Sellers Market\n",
        "*   Even Market\n",
        "\n"
      ],
      "metadata": {
        "id": "ARZ3NPipqSJ2"
      }
    },
    {
      "cell_type": "markdown",
      "source": [
        "# ***MARKET CLASSIFICATION MODEL FEATURES***"
      ],
      "metadata": {
        "id": "DHuiZTy6SB3N"
      }
    },
    {
      "cell_type": "markdown",
      "source": [
        "Notation:\n",
        "*   (IMP): Important Feature\n",
        "\n",
        "The following features will be used:\n",
        "*   Activity Ratios (Quarterly):\n",
        "    *   (IMP) New listings ratio: new_active_listings / total_properties\n",
        "    *   (IMP) Absorption rate: closed_sales / active_listings\n",
        "    *   (IMP) Pending conversion rate: pending_to_closed / total_pending\n",
        "    *   Back-to-market rate: back_to_market / total_pending\n",
        "    *   Off-market withdrawal rate: off_market / total_active\n",
        "*   Velocity Metrics:\n",
        "    *   Average days on market: sum(days_active) / closed_sales\n",
        "    *   Pending duration: sum(days_pending) / closed_sales\n",
        "    *   (IMP) Market turnover: total_status_changes / total_properties\n",
        "*   Supply-Demand Indicators:\n",
        "    *   Inventory months: active_listings / (closed_sales / 3_months)\n",
        "    *   (IMP) Competition index: pending_listings / active_listings\n",
        "    *   (IMP) Market pressure: (new_listings - closed_sales) / new_listings"
      ],
      "metadata": {
        "id": "Lb7zXkQVWDCL"
      }
    },
    {
      "cell_type": "markdown",
      "source": [
        "# ***EXPLAINING THE VARIABLES***\n",
        "\n",
        "**Activity Ratios**\n",
        "\n",
        "*   **New Listings Ratio:** new_active_listings / total_properties\n",
        "\n",
        "    **Variables:**\n",
        "      *   *new_active_listings:* Count of properties that entered \"Active\" status for the first time during the quarter\n",
        "      *   *total_properties:* Total unique properties with any activity in the quarter\n",
        "\n",
        "    **Purpose:** Measures fresh inventory entering the market relative to overall market size\n",
        "\n",
        "    <br>\n",
        "\n",
        "*   **Absorption Rate:** closed_sales / active_listings\n",
        "\n",
        "    **Variables:**\n",
        "      *   *closed_sales:* Number of properties that changed from any status to \"Closed\" during the quarter\n",
        "      *   *active_listings:* Average number of properties in \"Active\" status during the quarter\n",
        "\n",
        "    **Purpose:** Indicates how quickly the market absorbs available inventory\n",
        "    \n",
        "    <br>\n",
        "\n",
        "*   **Pending Conversion Rate:** pending_to_closed / total_pending\n",
        "\n",
        "    **Variables:**\n",
        "      *   *pending_to_closed:* Properties that successfully moved from \"Pending\" to \"Closed\" status\n",
        "      *   *total_pending:* All properties that were in \"Pending\" status at any point during the quarter\n",
        "\n",
        "    **Purpose:** Measures deal completion success rate\n",
        "\n",
        "    <br>\n",
        "\n",
        "*   **Back-to-Market Rate:** back_to_market / total_pending\n",
        "\n",
        "    **Variables:**\n",
        "      *   *back_to_market:* Properties that moved from \"Pending\" back to \"Active\" status (failed deals)\n",
        "      *   *total_pending:* All properties that were in \"Pending\" status at any point during the quarter\n",
        "\n",
        "    **Purpose:** Indicates market instability and deal failure rates\n",
        "\n",
        "    <br>\n",
        "\n",
        "*   **Off-Market Withdrawal Rate:** off_market / total_active\n",
        "\n",
        "    **Variables:**\n",
        "      *   *off_market:* Properties that moved from \"Active\" to \"Off Market\" status (withdrawn without selling)\n",
        "      *   *total_active:* Total properties that were active during the quarter\n",
        "\n",
        "    **Purpose:** Shows seller confidence in the current market conditions\n",
        "\n",
        "    <br>\n",
        "\n",
        "**Velocity Metrics**\n",
        "\n",
        "*   **Average Days on Market:** sum(days_active) / closed_sales\n",
        "\n",
        "    **Variables:**\n",
        "      *   *days_active:* total days properties spent in \"Active\" status before selling\n",
        "      *   *closed_sales:* Number of properties that successfully closed\n",
        "\n",
        "    **Purpose:** Measures how quickly properties sell, indicating market heat\n",
        "\n",
        "    <br>\n",
        "\n",
        "*   **Pending Duration:** sum(days_pending) / closed_sales\n",
        "\n",
        "    **Variables:**\n",
        "      *   *days_pending:* Total days properties spent in \"Pending\" status before closing\n",
        "      *   *closed_sales:* Number of properties that successfully closed\n",
        "\n",
        "    **Purpose:** Indicates transaction complexity and financing conditions\n",
        "\n",
        "    <br>\n",
        "\n",
        "*   **Market Turnover:** total_status_changes / total_properties\n",
        "\n",
        "    **Variables:**\n",
        "      *   *total_status_changes:* Sum of all status transitions (Active→Pending, Pending→Closed, etc.)\n",
        "      *   *total_properties:* Total unique properties in the dataset\n",
        "\n",
        "    **Purpose:** Measures overall market activity and dynamism\n",
        "\n",
        "    <br>\n",
        "\n",
        "**Supply-Demand Indicators**\n",
        "*   **Inventory Months:** active_listings / (closed_sales / 3_months)\n",
        "\n",
        "    **Variables:**\n",
        "      *   *active_listings:* Current count of properties in \"Active\" status at quarter-end\n",
        "      *   *closed_sales:* Number of sales completed in the quarter\n",
        "      *   *3_months:* equals 3\n",
        "\n",
        "    **Purpose:** Shows how many months it would take to sell current inventory at current pace\n",
        "\n",
        "    <br>\n",
        "\n",
        "*   **Competition Index:** pending_listings / active_listings\n",
        "\n",
        "    **Variables:**\n",
        "      *   *pending_listings:* Properties currently in \"Pending\" status\n",
        "      *   *active_listings:* Properties currently in \"Active\" status\n",
        "\n",
        "    **Purpose:** Indicates buyer competition intensity\n",
        "\n",
        "    <br>\n",
        "\n",
        "*   **Market Pressure:** (new_listings - closed_sales) / new_listings\n",
        "\n",
        "    **Variables:**\n",
        "      *   *new_listings:* Properties newly entered to market during quarter\n",
        "      *   *closed_sales:* Properties that closed during quarter\n",
        "\n",
        "    **Purpose:** Shows whether supply is increasing or decreasing relative to demand\n",
        "\n",
        "    <br>\n",
        "\n",
        "**Notes:**\n",
        "\n",
        "Transitions\n",
        "*   **Active→Pending:** Properties moving under contract\n",
        "*   **Pending→Closed:** Successful transactions\n",
        "*   **Pending→Active:** Failed contracts returning to market\n",
        "*   **Active→Off Market:** Withdrawn listings\n",
        "*   **Off Market→Active:** Re-listed properties\n",
        "\n",
        "These transitions are counted and timed to create velocity and success rate metrics.\n",
        "We are using only the most recent quarterly periods so we could use rolling averages to include the older quarterlies values in the decision making while giving them less importance."
      ],
      "metadata": {
        "id": "6vm8YtlOeiDl"
      }
    }
  ]
}