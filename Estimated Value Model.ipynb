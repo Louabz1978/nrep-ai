{
 "cells": [
  {
   "cell_type": "code",
   "execution_count": null,
   "id": "af1b1064",
   "metadata": {},
   "outputs": [],
   "source": [
    "import tensorflow as tf\n",
    "import pandas as pd\n",
    "import numpy as np\n",
    "import tensorflow as tf\n",
    "from sklearn.preprocessing import StandardScaler\n",
    "from sklearn.model_selection import train_test_split\n",
    "from tensorflow.keras.models import load_model\n",
    "from tensorflow.keras.preprocessing.image import load_img, img_to_array\n",
    "import numpy as np\n",
    "from tensorflow.keras.utils import plot_model"
   ]
  },
  {
   "cell_type": "code",
   "execution_count": null,
   "id": "68696ae8",
   "metadata": {},
   "outputs": [],
   "source": [
    "# Building Quality Model\n",
    "def build_quality_model(input_shape=(128, 128, 3)):\n",
    "    model = tf.keras.Sequential([\n",
    "        tf.keras.layers.Conv2D(32, (3, 3), activation='relu', input_shape=input_shape),\n",
    "        tf.keras.layers.MaxPooling2D((2, 2)),\n",
    "        tf.keras.layers.Conv2D(64, (3, 3), activation='relu'),\n",
    "        tf.keras.layers.MaxPooling2D((2, 2)),\n",
    "        tf.keras.layers.Flatten(),\n",
    "        tf.keras.layers.Dense(64, activation='relu'),\n",
    "        tf.keras.layers.Dense(1, activation='linear')  \n",
    "    ])\n",
    "    return model"
   ]
  },
  {
   "cell_type": "code",
   "execution_count": null,
   "id": "195d808b",
   "metadata": {},
   "outputs": [],
   "source": [
    "# Draw the Chart\n",
    "plot_model(build_quality_model, to_file='quality_model_architecture.png', show_shapes=True, show_layer_names=True)"
   ]
  },
  {
   "cell_type": "code",
   "execution_count": null,
   "id": "6c1ae1c1",
   "metadata": {},
   "outputs": [],
   "source": [
    "# Fake data\n",
    "df = pd.DataFrame({\n",
    "    'bedrooms': np.random.randint(1, 6, 100),\n",
    "    'bathrooms': np.random.randint(1, 4, 100),\n",
    "    'solar': np.random.randint(0, 2, 100),\n",
    "    'AC': np.random.randint(0, 2, 100),\n",
    "    'pool': np.random.randint(0, 2, 100),\n",
    "    'avg_nearby_price': np.random.uniform(200000, 800000, 100),\n",
    "    'quality': np.random.uniform(1, 4, 100), \n",
    "    'price': np.random.uniform(300000, 900000, 100)\n",
    "})\n"
   ]
  },
  {
   "cell_type": "code",
   "execution_count": null,
   "id": "1271616f",
   "metadata": {},
   "outputs": [],
   "source": [
    "X = df.drop(columns=['price']).values   # input\n",
    "y = df['price'].values   # output"
   ]
  },
  {
   "cell_type": "code",
   "execution_count": null,
   "id": "9c6162a5",
   "metadata": {},
   "outputs": [],
   "source": [
    "# Scale of characteristics\n",
    "scaler = StandardScaler()\n",
    "X_scaled = scaler.fit_transform(X)"
   ]
  },
  {
   "cell_type": "code",
   "execution_count": null,
   "id": "a99aabe3",
   "metadata": {},
   "outputs": [],
   "source": [
    "# Price Model\n",
    "price_model = tf.keras.Sequential([\n",
    "    tf.keras.layers.Dense(64, activation='relu', input_shape=(X_scaled.shape[1],)),\n",
    "    tf.keras.layers.Dense(32, activation='relu'),\n",
    "    tf.keras.layers.Dense(1)\n",
    "])\n",
    "price_model.compile(optimizer='adam', loss='mse', metrics=['mae'])"
   ]
  },
  {
   "cell_type": "code",
   "execution_count": null,
   "id": "f27acd7f",
   "metadata": {},
   "outputs": [],
   "source": [
    "# Model training\n",
    "price_model.fit(X_scaled, y, epochs=10, batch_size=8)"
   ]
  },
  {
   "cell_type": "code",
   "execution_count": null,
   "id": "5b00cba6",
   "metadata": {},
   "outputs": [],
   "source": [
    "# Draw the Diagram\n",
    "plot_model(price_model, to_file='price_model_architecture.png', show_shapes=True, show_layer_names=True)"
   ]
  },
  {
   "cell_type": "code",
   "execution_count": null,
   "id": "c1dbb627",
   "metadata": {},
   "outputs": [],
   "source": [
    "# Save Model\n",
    "price_model.save(\"price_model.h5\")"
   ]
  },
  {
   "cell_type": "code",
   "execution_count": null,
   "id": "e336a7b3",
   "metadata": {},
   "outputs": [],
   "source": [
    "# Loading Quality Model\n",
    "quality_model = load_model(\"quality_model.h5\")"
   ]
  },
  {
   "cell_type": "code",
   "execution_count": null,
   "id": "8080c0b9",
   "metadata": {},
   "outputs": [],
   "source": [
    "# Loading a House Image\n",
    "img = load_img(\"house1.jpg\", target_size=(128, 128))\n",
    "img_array = img_to_array(img) / 255.0\n",
    "img_array = np.expand_dims(img_array, axis=0)"
   ]
  },
  {
   "cell_type": "code",
   "execution_count": null,
   "id": "c461c395",
   "metadata": {},
   "outputs": [],
   "source": [
    "# Prediction Of Quality\n",
    "predicted_quality = quality_model.predict(img_array)[0][0]"
   ]
  },
  {
   "cell_type": "code",
   "execution_count": null,
   "id": "51ef7fd1",
   "metadata": {},
   "outputs": [],
   "source": [
    "# Other characteristics of the house\n",
    "features = {\n",
    "    'bedrooms': 3,\n",
    "    'bathrooms': 2,\n",
    "    'solar': 1,\n",
    "    'AC': 1,\n",
    "    'pool': 0,\n",
    "    'avg_nearby_price': 450000,\n",
    "    'quality': predicted_quality\n",
    "}\n"
   ]
  },
  {
   "cell_type": "code",
   "execution_count": null,
   "id": "fa60683f",
   "metadata": {},
   "outputs": [],
   "source": [
    "# Data Preparation\n",
    "input_data = np.array([list(features.values())])\n",
    "scaler = StandardScaler()\n",
    "input_scaled = scaler.fit_transform(input_data)"
   ]
  },
  {
   "cell_type": "code",
   "execution_count": null,
   "id": "b3a0a724",
   "metadata": {},
   "outputs": [],
   "source": [
    "# Download the price and prediction model\n",
    "price_model = load_model(\"price_model.h5\")\n",
    "predicted_price = price_model.predict(input_scaled)[0][0]"
   ]
  },
  {
   "cell_type": "code",
   "execution_count": null,
   "id": "8ced50d0",
   "metadata": {},
   "outputs": [],
   "source": [
    "print(f\"Estimated Property Value: ${predicted_price:,.2f}\")"
   ]
  }
 ],
 "metadata": {
  "language_info": {
   "name": "python"
  }
 },
 "nbformat": 4,
 "nbformat_minor": 5
}
