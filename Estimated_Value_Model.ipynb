{
  "nbformat": 4,
  "nbformat_minor": 0,
  "metadata": {
    "colab": {
      "provenance": []
    },
    "kernelspec": {
      "name": "python3",
      "display_name": "Python 3"
    },
    "language_info": {
      "name": "python"
    }
  },
  "cells": [
    {
      "cell_type": "code",
      "execution_count": 1,
      "metadata": {
        "id": "Sn9Y5kr63E2B"
      },
      "outputs": [],
      "source": [
        "import tensorflow as tf\n",
        "import pandas as pd\n",
        "import numpy as np\n",
        "from sklearn.preprocessing import StandardScaler\n",
        "from tensorflow.keras.models import load_model\n",
        "from tensorflow.keras.preprocessing.image import load_img, img_to_array\n",
        "from tensorflow.keras.utils import plot_model\n",
        "import os"
      ]
    },
    {
      "cell_type": "code",
      "source": [
        "def build_quality_model(input_shape=(128, 128, 3)):\n",
        "    model = tf.keras.Sequential([\n",
        "        tf.keras.layers.Conv2D(32, (3, 3), activation='relu', input_shape=input_shape),\n",
        "        tf.keras.layers.MaxPooling2D((2, 2)),\n",
        "        tf.keras.layers.Conv2D(64, (3, 3), activation='relu'),\n",
        "        tf.keras.layers.MaxPooling2D((2, 2)),\n",
        "        tf.keras.layers.Flatten(),\n",
        "        tf.keras.layers.Dense(64, activation='relu'),\n",
        "        tf.keras.layers.Dense(1, activation='linear')\n",
        "    ])\n",
        "    return model\n"
      ],
      "metadata": {
        "id": "DluHpegp3Hwl"
      },
      "execution_count": 2,
      "outputs": []
    },
    {
      "cell_type": "code",
      "source": [
        "df = pd.DataFrame({\n",
        "    'bedrooms': np.random.randint(1, 6, 100),\n",
        "    'bathrooms': np.random.randint(1, 4, 100),\n",
        "    'solar': np.random.randint(0, 2, 100),\n",
        "    'AC': np.random.randint(0, 2, 100),\n",
        "    'pool': np.random.randint(0, 2, 100),\n",
        "    'avg_nearby_price': np.random.uniform(200000, 800000, 100),\n",
        "    'quality': np.random.uniform(1, 4, 100),\n",
        "    'price': np.random.uniform(300000, 900000, 100)\n",
        "})"
      ],
      "metadata": {
        "id": "S8u4DOYf3Hz-"
      },
      "execution_count": 3,
      "outputs": []
    },
    {
      "cell_type": "code",
      "source": [
        "X = df.drop(columns=['price']).values\n",
        "y = df['price'].values"
      ],
      "metadata": {
        "id": "JywgUQT73XTQ"
      },
      "execution_count": 4,
      "outputs": []
    },
    {
      "cell_type": "code",
      "source": [
        "scaler = StandardScaler()\n",
        "X_scaled = scaler.fit_transform(X)"
      ],
      "metadata": {
        "id": "HhI-8WeP3XVf"
      },
      "execution_count": 5,
      "outputs": []
    },
    {
      "cell_type": "code",
      "source": [
        "price_model = tf.keras.Sequential([\n",
        "    tf.keras.layers.Dense(64, activation='relu', input_shape=(X_scaled.shape[1],)),\n",
        "    tf.keras.layers.Dense(32, activation='relu'),\n",
        "    tf.keras.layers.Dense(1)\n",
        "])\n",
        "price_model.compile(optimizer='adam', loss='mse', metrics=['mae'])\n",
        "price_model.fit(X_scaled, y, epochs=10, batch_size=8)"
      ],
      "metadata": {
        "colab": {
          "base_uri": "https://localhost:8080/"
        },
        "id": "KQ_NUtx03XXw",
        "outputId": "1fc9117d-d251-4299-9f84-dfcd7e8f7cc8"
      },
      "execution_count": 6,
      "outputs": [
        {
          "output_type": "stream",
          "name": "stdout",
          "text": [
            "Epoch 1/10\n"
          ]
        },
        {
          "output_type": "stream",
          "name": "stderr",
          "text": [
            "/usr/local/lib/python3.11/dist-packages/keras/src/layers/core/dense.py:87: UserWarning: Do not pass an `input_shape`/`input_dim` argument to a layer. When using Sequential models, prefer using an `Input(shape)` object as the first layer in the model instead.\n",
            "  super().__init__(activity_regularizer=activity_regularizer, **kwargs)\n"
          ]
        },
        {
          "output_type": "stream",
          "name": "stdout",
          "text": [
            "\u001b[1m13/13\u001b[0m \u001b[32m━━━━━━━━━━━━━━━━━━━━\u001b[0m\u001b[37m\u001b[0m \u001b[1m3s\u001b[0m 15ms/step - loss: 366864465920.0000 - mae: 580523.1250\n",
            "Epoch 2/10\n",
            "\u001b[1m13/13\u001b[0m \u001b[32m━━━━━━━━━━━━━━━━━━━━\u001b[0m\u001b[37m\u001b[0m \u001b[1m0s\u001b[0m 26ms/step - loss: 331208818688.0000 - mae: 554139.6250\n",
            "Epoch 3/10\n",
            "\u001b[1m13/13\u001b[0m \u001b[32m━━━━━━━━━━━━━━━━━━━━\u001b[0m\u001b[37m\u001b[0m \u001b[1m0s\u001b[0m 12ms/step - loss: 330031104000.0000 - mae: 552622.1250\n",
            "Epoch 4/10\n",
            "\u001b[1m13/13\u001b[0m \u001b[32m━━━━━━━━━━━━━━━━━━━━\u001b[0m\u001b[37m\u001b[0m \u001b[1m1s\u001b[0m 19ms/step - loss: 351576129536.0000 - mae: 573636.7500\n",
            "Epoch 5/10\n",
            "\u001b[1m13/13\u001b[0m \u001b[32m━━━━━━━━━━━━━━━━━━━━\u001b[0m\u001b[37m\u001b[0m \u001b[1m1s\u001b[0m 20ms/step - loss: 335670181888.0000 - mae: 558095.6875\n",
            "Epoch 6/10\n",
            "\u001b[1m13/13\u001b[0m \u001b[32m━━━━━━━━━━━━━━━━━━━━\u001b[0m\u001b[37m\u001b[0m \u001b[1m0s\u001b[0m 10ms/step - loss: 349277683712.0000 - mae: 570906.6875\n",
            "Epoch 7/10\n",
            "\u001b[1m13/13\u001b[0m \u001b[32m━━━━━━━━━━━━━━━━━━━━\u001b[0m\u001b[37m\u001b[0m \u001b[1m0s\u001b[0m 17ms/step - loss: 335253733376.0000 - mae: 555377.1875\n",
            "Epoch 8/10\n",
            "\u001b[1m13/13\u001b[0m \u001b[32m━━━━━━━━━━━━━━━━━━━━\u001b[0m\u001b[37m\u001b[0m \u001b[1m0s\u001b[0m 12ms/step - loss: 362171727872.0000 - mae: 578953.8750\n",
            "Epoch 9/10\n",
            "\u001b[1m13/13\u001b[0m \u001b[32m━━━━━━━━━━━━━━━━━━━━\u001b[0m\u001b[37m\u001b[0m \u001b[1m0s\u001b[0m 10ms/step - loss: 377030868992.0000 - mae: 588815.6250\n",
            "Epoch 10/10\n",
            "\u001b[1m13/13\u001b[0m \u001b[32m━━━━━━━━━━━━━━━━━━━━\u001b[0m\u001b[37m\u001b[0m \u001b[1m0s\u001b[0m 6ms/step - loss: 333902118912.0000 - mae: 552930.1875  \n"
          ]
        },
        {
          "output_type": "execute_result",
          "data": {
            "text/plain": [
              "<keras.src.callbacks.history.History at 0x79453911e310>"
            ]
          },
          "metadata": {},
          "execution_count": 6
        }
      ]
    },
    {
      "cell_type": "code",
      "source": [
        "price_model.save(\"price_model.h5\")"
      ],
      "metadata": {
        "colab": {
          "base_uri": "https://localhost:8080/"
        },
        "id": "YGj7RqLG3XbT",
        "outputId": "626445ee-f82b-4450-905b-b236318133ac"
      },
      "execution_count": 15,
      "outputs": [
        {
          "output_type": "stream",
          "name": "stderr",
          "text": [
            "WARNING:absl:You are saving your model as an HDF5 file via `model.save()` or `keras.saving.save_model(model)`. This file format is considered legacy. We recommend using instead the native Keras format, e.g. `model.save('my_model.keras')` or `keras.saving.save_model(model, 'my_model.keras')`. \n"
          ]
        }
      ]
    },
    {
      "cell_type": "code",
      "source": [
        "def generate_dummy_nearby_sales(num_properties=6):\n",
        "    data = {\n",
        "        'property_id': [f'P-{1000+i}' for i in range(num_properties)],\n",
        "        'distance_m': np.random.uniform(100, 500, num_properties),\n",
        "        'bedrooms': np.random.randint(1, 5, num_properties),\n",
        "        'bathrooms': np.random.randint(1, 3, num_properties),\n",
        "        'has_solar': np.random.randint(0, 2, num_properties),\n",
        "        'has_ac': np.random.randint(0, 2, num_properties),\n",
        "        'has_pool': np.random.randint(0, 2, num_properties),\n",
        "        'sale_price': np.random.uniform(300000, 800000, num_properties),\n",
        "        'sale_date': pd.date_range(end=pd.Timestamp.today(), periods=num_properties)\n",
        "    }\n",
        "    return pd.DataFrame(data)"
      ],
      "metadata": {
        "id": "zKcCjHCQ3flj"
      },
      "execution_count": 7,
      "outputs": []
    },
    {
      "cell_type": "code",
      "source": [
        "dummy_sales_data = generate_dummy_nearby_sales()\n",
        "avg_nearby_price = dummy_sales_data['sale_price'].mean()"
      ],
      "metadata": {
        "id": "ewOMUF153fpL"
      },
      "execution_count": 8,
      "outputs": []
    },
    {
      "cell_type": "code",
      "source": [
        "quality_model = build_quality_model()\n",
        "quality_model.compile(optimizer='adam', loss='mse')"
      ],
      "metadata": {
        "colab": {
          "base_uri": "https://localhost:8080/"
        },
        "id": "AJRIo5XD3jAg",
        "outputId": "e44bb458-9272-408b-b914-8bb4add5e1f0"
      },
      "execution_count": 9,
      "outputs": [
        {
          "output_type": "stream",
          "name": "stderr",
          "text": [
            "/usr/local/lib/python3.11/dist-packages/keras/src/layers/convolutional/base_conv.py:107: UserWarning: Do not pass an `input_shape`/`input_dim` argument to a layer. When using Sequential models, prefer using an `Input(shape)` object as the first layer in the model instead.\n",
            "  super().__init__(activity_regularizer=activity_regularizer, **kwargs)\n"
          ]
        }
      ]
    },
    {
      "cell_type": "code",
      "source": [
        "quality_model.fit(np.random.rand(10, 128, 128, 3), np.random.rand(10), epochs=1)"
      ],
      "metadata": {
        "colab": {
          "base_uri": "https://localhost:8080/"
        },
        "id": "StaCAZRJ3jDi",
        "outputId": "f60ae492-7b87-47a7-d6ee-86e0f2d2be8e"
      },
      "execution_count": 10,
      "outputs": [
        {
          "output_type": "stream",
          "name": "stdout",
          "text": [
            "\u001b[1m1/1\u001b[0m \u001b[32m━━━━━━━━━━━━━━━━━━━━\u001b[0m\u001b[37m\u001b[0m \u001b[1m2s\u001b[0m 2s/step - loss: 0.6350\n"
          ]
        },
        {
          "output_type": "execute_result",
          "data": {
            "text/plain": [
              "<keras.src.callbacks.history.History at 0x794538fbe890>"
            ]
          },
          "metadata": {},
          "execution_count": 10
        }
      ]
    },
    {
      "cell_type": "code",
      "source": [
        "quality_model.save(\"quality_model.h5\")"
      ],
      "metadata": {
        "colab": {
          "base_uri": "https://localhost:8080/"
        },
        "id": "dkXFOgJU3jHI",
        "outputId": "86f02f5b-564a-4585-8d42-f87a1dea1fc2"
      },
      "execution_count": 16,
      "outputs": [
        {
          "output_type": "stream",
          "name": "stderr",
          "text": [
            "WARNING:absl:You are saving your model as an HDF5 file via `model.save()` or `keras.saving.save_model(model)`. This file format is considered legacy. We recommend using instead the native Keras format, e.g. `model.save('my_model.keras')` or `keras.saving.save_model(model, 'my_model.keras')`. \n"
          ]
        }
      ]
    },
    {
      "cell_type": "code",
      "source": [
        "predicted_quality = np.random.uniform(1, 4)\n",
        "print(f\"\\n🖼️ Simulated predicted quality (no image used): {predicted_quality:.2f}\")\n",
        "# if os.path.exists(\"house1.jpg\"):\n",
        "#     img = load_img(\"house1.jpg\", target_size=(128, 128))\n",
        "#     img_array = img_to_array(img) / 255.0\n",
        "#     img_array = np.expand_dims(img_array, axis=0)\n",
        "#     predicted_quality = quality_model.predict(img_array)[0][0]\n",
        "# else:\n",
        "#     print(\"Image not found❌\")\n",
        "#     predicted_quality = np.random.uniform(1, 4)"
      ],
      "metadata": {
        "colab": {
          "base_uri": "https://localhost:8080/"
        },
        "id": "nWbJJiVJ3ryY",
        "outputId": "80bd7006-10d5-4b69-fa91-c4ea09f49b18"
      },
      "execution_count": 11,
      "outputs": [
        {
          "output_type": "stream",
          "name": "stdout",
          "text": [
            "\n",
            "🖼️ Simulated predicted quality (no image used): 3.42\n"
          ]
        }
      ]
    },
    {
      "cell_type": "code",
      "source": [
        "features = {\n",
        "    'bedrooms': 3,\n",
        "    'bathrooms': 2,\n",
        "    'solar': 1,\n",
        "    'AC': 1,\n",
        "    'pool': 0,\n",
        "    'avg_nearby_price': avg_nearby_price,\n",
        "    'quality': predicted_quality\n",
        "}"
      ],
      "metadata": {
        "id": "zjJw1wXP3r04"
      },
      "execution_count": 12,
      "outputs": []
    },
    {
      "cell_type": "code",
      "source": [
        "input_data = np.array([list(features.values())])\n",
        "input_scaled = scaler.transform(input_data)"
      ],
      "metadata": {
        "id": "oTgGXEH63r4g"
      },
      "execution_count": 13,
      "outputs": []
    },
    {
      "cell_type": "code",
      "source": [
        "price_model = load_model(\"price_model.h5\", compile=False)\n",
        "predicted_price = price_model.predict(input_scaled)[0][0]\n",
        "print(f\"\\n🏡 Estimated Property Value: ${predicted_price:,.2f}\")"
      ],
      "metadata": {
        "colab": {
          "base_uri": "https://localhost:8080/"
        },
        "id": "zpG6FqnO3ya0",
        "outputId": "3d5f4d36-1d30-4d1d-cd7e-255e4677b29b"
      },
      "execution_count": 18,
      "outputs": [
        {
          "output_type": "stream",
          "name": "stdout",
          "text": [
            "\u001b[1m1/1\u001b[0m \u001b[32m━━━━━━━━━━━━━━━━━━━━\u001b[0m\u001b[37m\u001b[0m \u001b[1m0s\u001b[0m 345ms/step\n",
            "\n",
            "🏡 Estimated Property Value: $12.28\n"
          ]
        }
      ]
    }
  ]
}